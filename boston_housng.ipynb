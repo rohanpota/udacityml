{
 "cells": [
  {
   "cell_type": "markdown",
   "metadata": {},
   "source": [
    "# Machine Learning Engineer Nanodegree\n",
    "## Model Evaluation & Validation\n",
    "## Project 1: Predicting Boston Housing Prices\n",
    "\n",
    "Welcome to the first project of the Machine Learning Engineer Nanodegree! In this notebook, some template code has already been written. You will need to implement additional functionality to successfully answer all of the questions for this project. Unless it is requested, do not modify any of the code that has already been included. In this template code, there are four sections which you must complete to successfully produce a prediction with your model. Each section where you will write code is preceded by a **STEP X** header with comments describing what must be done. Please read the instructions carefully!\n",
    "\n",
    "In addition to implementing code, there will be questions that you must answer that relate to the project and your implementation. Each section where you will answer a question is preceded by a **QUESTION X** header. Be sure that you have carefully read each question and provide thorough answers in the text boxes that begin with \"**Answer:**\". Your project submission will be evaluated based on your answers to each of the questions.  \n",
    "\n",
    "A description of the dataset can be found [here](https://archive.ics.uci.edu/ml/datasets/Housing), which is provided by the **UCI Machine Learning Repository**."
   ]
  },
  {
   "cell_type": "markdown",
   "metadata": {},
   "source": [
    "# Getting Started\n",
    "To familiarize yourself with an iPython Notebook, **try double clicking on this cell**. You will notice that the text changes so that all the formatting is removed. This allows you to make edits to the block of text you see here. This block of text (and mostly anything that's not code) is written using [Markdown](http://daringfireball.net/projects/markdown/syntax), which is a way to format text using headers, links, italics, and many other options! Whether you're editing a Markdown text block or a code block (like the one below), you can use the keyboard shortcut **Shift + Enter** or **Shift + Return** to execute the code or text block. In this case, it will show the formatted text.\n",
    "\n",
    "Let's start by setting up some code we will need to get the rest of the project up and running. Use the keyboard shortcut mentioned above on the following code block to execute it. Alternatively, depending on your iPython Notebook program, you can press the **Play** button in the hotbar. You'll know the code block executes successfully if the message *\"Boston Housing dataset loaded successfully!\"* is printed."
   ]
  },
  {
   "cell_type": "code",
   "execution_count": 1,
   "metadata": {
    "collapsed": false
   },
   "outputs": [],
   "source": [
    "# Importing a few necessary libraries\n",
    "import numpy as np\n",
    "import matplotlib.pyplot as pl\n",
    "from sklearn import datasets\n",
    "from sklearn.tree import DecisionTreeRegressor\n",
    "\n",
    "# Make matplotlib show our plots inline (nicely formatted in the notebook)\n",
    "%matplotlib inline\n",
    "\n",
    "# Create our client's feature set for which we will be predicting a selling price\n",
    "CLIENT_FEATURES = [[11.95, 0.00, 18.100, 0, 0.6590, 5.6090, 90.00, 1.385, 24, 680.0, 20.20, 332.09, 12.13]]\n",
    "\n",
    "# Load the Boston Housing dataset into the city_data variable\n",
    "city_data = datasets.load_boston()\n",
    "\n",
    "# Initialize the housing prices and housing features\n",
    "housing_prices = city_data.target\n",
    "housing_features = city_data.data\n",
    "\n"
   ]
  },
  {
   "cell_type": "code",
   "execution_count": 2,
   "metadata": {
    "collapsed": false
   },
   "outputs": [],
   "source": [
    "a=housing_features.tolist()\n",
    "b=[]\n",
    "for i in a:\n",
    "    b.append(i)"
   ]
  },
  {
   "cell_type": "code",
   "execution_count": 3,
   "metadata": {
    "collapsed": false
   },
   "outputs": [
    {
     "data": {
      "text/plain": [
       "506"
      ]
     },
     "execution_count": 3,
     "metadata": {},
     "output_type": "execute_result"
    }
   ],
   "source": [
    "len(housing_features)"
   ]
  },
  {
   "cell_type": "code",
   "execution_count": 4,
   "metadata": {
    "collapsed": false
   },
   "outputs": [
    {
     "data": {
      "text/plain": [
       "[11.95,\n",
       " 0.0,\n",
       " 18.1,\n",
       " 0,\n",
       " 0.659,\n",
       " 5.609,\n",
       " 90.0,\n",
       " 1.385,\n",
       " 24,\n",
       " 680.0,\n",
       " 20.2,\n",
       " 332.09,\n",
       " 12.13]"
      ]
     },
     "execution_count": 4,
     "metadata": {},
     "output_type": "execute_result"
    }
   ],
   "source": [
    "CLIENT_FEATURES[0]"
   ]
  },
  {
   "cell_type": "markdown",
   "metadata": {},
   "source": [
    "# Statistical Analysis and Data Exploration\n",
    "In this first section of the project, you will quickly investigate a few basic statistics about the dataset you are working with. In addition, you'll look at the client's feature set in `CLIENT_FEATURES` and see how this particular sample relates to the features of the dataset. Familiarizing yourself with the data through an explorative process is a fundamental practice to help you better understand your results."
   ]
  },
  {
   "cell_type": "markdown",
   "metadata": {},
   "source": [
    "## Step 1\n",
    "In the code block below, use the imported `numpy` library to calculate the requested statistics. You will need to replace each `None` you find with the appropriate `numpy` coding for the proper statistic to be printed. Be sure to execute the code block each time to test if your implementation is working successfully. The print statements will show the statistics you calculate!"
   ]
  },
  {
   "cell_type": "code",
   "execution_count": 5,
   "metadata": {
    "collapsed": false
   },
   "outputs": [
    {
     "name": "stdout",
     "output_type": "stream",
     "text": [
      "Boston Housing dataset statistics (in $1000's):\n",
      "\n",
      "Total number of houses: 506\n",
      "Total number of features: 13\n",
      "Minimum house price: 5.0\n",
      "Maximum house price: 50.0\n",
      "Mean house price: 22.533\n",
      "Median house price: 21.2\n",
      "Standard deviation of house price: 9.188\n"
     ]
    }
   ],
   "source": [
    "# Number of houses in the dataset\n",
    "total_houses = len(housing_prices)\n",
    "\n",
    "# Number of features in the dataset\n",
    "total_features = len(CLIENT_FEATURES[0])\n",
    "\n",
    "# Minimum housing value in the dataset\n",
    "minimum_price = np.min(housing_prices)\n",
    "\n",
    "# Maximum housing value in the dataset\n",
    "maximum_price = np.max(housing_prices)\n",
    "\n",
    "# Mean house value of the dataset\n",
    "mean_price = np.mean(housing_prices)\n",
    "\n",
    "# Median house value of the dataset\n",
    "median_price = np.median(housing_prices)\n",
    "\n",
    "# Standard deviation of housing values of the dataset\n",
    "std_dev = np.std(housing_prices)\n",
    "\n",
    "# Show the calculated statistics\n",
    "print \"Boston Housing dataset statistics (in $1000's):\\n\"\n",
    "print \"Total number of houses:\", total_houses\n",
    "print \"Total number of features:\", total_features\n",
    "print \"Minimum house price:\", minimum_price\n",
    "print \"Maximum house price:\", maximum_price\n",
    "print \"Mean house price: {0:.3f}\".format(mean_price)\n",
    "print \"Median house price:\", median_price\n",
    "print \"Standard deviation of house price: {0:.3f}\".format(std_dev)"
   ]
  },
  {
   "cell_type": "markdown",
   "metadata": {},
   "source": [
    "## Question 1\n",
    "As a reminder, you can view a description of the Boston Housing dataset [here](https://archive.ics.uci.edu/ml/datasets/Housing), where you can find the different features under **Attribute Information**. The `MEDV` attribute relates to the values stored in our `housing_prices` variable, so we do not consider that a feature of the data.\n",
    "\n",
    "*Of the features available for each data point, choose three that you feel are significant and give a brief description for each of what they measure.*\n",
    "\n",
    "Remember, you can **double click the text box below** to add your answer!"
   ]
  },
  {
   "cell_type": "markdown",
   "metadata": {},
   "source": [
    "**Answer: **CRIM(value:11.95): per capita crime rate by town -->>Because more the crime,less livable is the neighbourhod hence the house prices will be lower.INDUS(value:18.1): proportion of non-retail business acres per town-->>More INDUS,more developed the neighbourhood,more the house price,consequently. LSTAT(value:12.13):% lower status of the population-->>More this %,more less income people live in the area poiting to the fact that the area is cheaper enough where the low income people can afford to buy house."
   ]
  },
  {
   "cell_type": "markdown",
   "metadata": {},
   "source": [
    "## Question 2\n",
    "*Using your client's feature set `CLIENT_FEATURES`, which values correspond with the features you've chosen above?*  \n",
    "**Hint: ** Run the code block below to see the client's data."
   ]
  },
  {
   "cell_type": "code",
   "execution_count": 6,
   "metadata": {
    "collapsed": false
   },
   "outputs": [
    {
     "name": "stdout",
     "output_type": "stream",
     "text": [
      "[[11.95, 0.0, 18.1, 0, 0.659, 5.609, 90.0, 1.385, 24, 680.0, 20.2, 332.09, 12.13]]\n"
     ]
    }
   ],
   "source": [
    "print CLIENT_FEATURES"
   ]
  },
  {
   "cell_type": "markdown",
   "metadata": {},
   "source": [
    "**Answer: **CRIM(value:11.95): per capita crime rate by town INDUS(value:18.1): proportion of non-retail business acres per town LSTAT(value:12.13):% lower status of the population"
   ]
  },
  {
   "cell_type": "markdown",
   "metadata": {},
   "source": [
    "# Evaluating Model Performance\n",
    "In this second section of the project, you will begin to develop the tools necessary for a model to make a prediction. Being able to accurately evaluate each model's performance through the use of these tools helps to greatly reinforce the confidence in your predictions."
   ]
  },
  {
   "cell_type": "markdown",
   "metadata": {},
   "source": [
    "## Step 2\n",
    "In the code block below, you will need to implement code so that the `shuffle_split_data` function does the following:\n",
    "- Randomly shuffle the input data `X` and target labels (housing values) `y`.\n",
    "- Split the data into training and testing subsets, holding 30% of the data for testing.\n",
    "\n",
    "If you use any functions not already acessible from the imported libraries above, remember to include your import statement below as well!   \n",
    "Ensure that you have executed the code block once you are done. You'll know the `shuffle_split_data` function is working if the statement *\"Successfully shuffled and split the data!\"* is printed."
   ]
  },
  {
   "cell_type": "code",
   "execution_count": 7,
   "metadata": {
    "collapsed": true
   },
   "outputs": [],
   "source": [
    "import random\n"
   ]
  },
  {
   "cell_type": "code",
   "execution_count": 8,
   "metadata": {
    "collapsed": false
   },
   "outputs": [
    {
     "name": "stdout",
     "output_type": "stream",
     "text": [
      "Successfully shuffled and split the data!\n"
     ]
    }
   ],
   "source": [
    "# Put any import statements you need for this code block here\n",
    "from sklearn.cross_validation import train_test_split\n",
    "def shuffle_split_data(X, y):\n",
    "    \"\"\" Shuffles and splits data into 70% training and 30% testing subsets,\n",
    "        then returns the training and testing subsets. \"\"\"\n",
    "\n",
    "    # Shuffle and split the data\n",
    "    lis=range(0,506)\n",
    "    lis=random.sample(lis, len(lis))\n",
    "    X = [ X[i] for i in lis]\n",
    "    y = [ y[i] for i in lis]\n",
    "    X_train, X_test, y_train, y_test=train_test_split(X, y, test_size=0.3, random_state=42)\n",
    "    # Return the training and testing data subsets\n",
    "    return X_train, y_train, X_test, y_test\n",
    "\n",
    "\n",
    "# Test shuffle_split_data\n",
    "try:\n",
    "    X_train, y_train, X_test, y_test = shuffle_split_data(housing_features, housing_prices)\n",
    "    print \"Successfully shuffled and split the data!\"\n",
    "except:\n",
    "    print \"Something went wrong with shuffling and splitting the data.\""
   ]
  },
  {
   "cell_type": "markdown",
   "metadata": {},
   "source": [
    "## Question 3\n",
    "*Why do we split the data into training and testing subsets for our model?*"
   ]
  },
  {
   "cell_type": "markdown",
   "metadata": {},
   "source": [
    "**Answer: **The train partition helps build our model and the test partition helps to provide us honest assessments of the performance of our predictive models.Hence to avoid overfitting,have possibly optimum performance of our model and simulate real life data that our model may encounter."
   ]
  },
  {
   "cell_type": "markdown",
   "metadata": {},
   "source": [
    "## Step 3\n",
    "In the code block below, you will need to implement code so that the `performance_metric` function does the following:\n",
    "- Perform a total error calculation between the true values of the `y` labels `y_true` and the predicted values of the `y` labels `y_predict`.\n",
    "\n",
    "You will need to first choose an appropriate performance metric for this problem. See [the sklearn metrics documentation](http://scikit-learn.org/stable/modules/classes.html#sklearn-metrics-metrics) to view a list of available metric functions. **Hint: ** Look at the question below to see a list of the metrics that were covered in the supporting course for this project.\n",
    "\n",
    "Once you have determined which metric you will use, remember to include the necessary import statement as well!  \n",
    "Ensure that you have executed the code block once you are done. You'll know the `performance_metric` function is working if the statement *\"Successfully performed a metric calculation!\"* is printed."
   ]
  },
  {
   "cell_type": "code",
   "execution_count": 9,
   "metadata": {
    "collapsed": true
   },
   "outputs": [],
   "source": [
    "import sklearn.metrics as metrics"
   ]
  },
  {
   "cell_type": "code",
   "execution_count": 10,
   "metadata": {
    "collapsed": false
   },
   "outputs": [
    {
     "name": "stdout",
     "output_type": "stream",
     "text": [
      "0.0\n"
     ]
    }
   ],
   "source": [
    "# Put any import statements you need for this code block here\n",
    "def performance_metric(y_true, y_predict):\n",
    "    \"\"\" Calculates and returns the total error between true and predicted values\n",
    "        based on a performance metric chosen by the student. \"\"\"\n",
    "\n",
    "    #error = metrics.accuracy_score(y_true, y_predict)\n",
    "    #error= metrics.precision_score(y_true, y_predict)\n",
    "    #error= metrics.recall_score(y_true, y_predict)\n",
    "    #error= metrics.f1_score(y_true, y_predict)\n",
    "    #error= metrics.mean_absolute_error(y_true, y_predict)\n",
    "    error= metrics.mean_squared_error(y_true, y_predict)\n",
    "    return error\n",
    "\n",
    "\n",
    "\n",
    "total_error = performance_metric(y_train, y_train)\n",
    "print total_error\n"
   ]
  },
  {
   "cell_type": "code",
   "execution_count": 11,
   "metadata": {
    "collapsed": false
   },
   "outputs": [
    {
     "data": {
      "text/plain": [
       "[10.199999999999999,\n",
       " 19.199999999999999,\n",
       " 31.699999999999999,\n",
       " 34.899999999999999,\n",
       " 21.699999999999999,\n",
       " 20.699999999999999,\n",
       " 19.300000000000001,\n",
       " 19.0,\n",
       " 24.600000000000001,\n",
       " 9.5999999999999996,\n",
       " 19.399999999999999,\n",
       " 19.600000000000001,\n",
       " 21.199999999999999,\n",
       " 19.600000000000001,\n",
       " 22.0,\n",
       " 24.800000000000001,\n",
       " 23.800000000000001,\n",
       " 21.399999999999999,\n",
       " 18.899999999999999,\n",
       " 28.0,\n",
       " 29.0,\n",
       " 16.100000000000001,\n",
       " 24.300000000000001,\n",
       " 7.0,\n",
       " 18.399999999999999,\n",
       " 19.5,\n",
       " 16.600000000000001,\n",
       " 10.9,\n",
       " 19.399999999999999,\n",
       " 21.0,\n",
       " 20.800000000000001,\n",
       " 22.199999999999999,\n",
       " 28.699999999999999,\n",
       " 15.4,\n",
       " 28.699999999999999,\n",
       " 17.800000000000001,\n",
       " 22.600000000000001,\n",
       " 25.300000000000001,\n",
       " 10.800000000000001,\n",
       " 22.0,\n",
       " 20.300000000000001,\n",
       " 19.899999999999999,\n",
       " 21.899999999999999,\n",
       " 19.899999999999999,\n",
       " 17.800000000000001,\n",
       " 33.200000000000003,\n",
       " 13.4,\n",
       " 15.6,\n",
       " 23.100000000000001,\n",
       " 8.0999999999999996,\n",
       " 29.600000000000001,\n",
       " 17.199999999999999,\n",
       " 13.800000000000001,\n",
       " 26.399999999999999,\n",
       " 15.4,\n",
       " 15.0,\n",
       " 20.300000000000001,\n",
       " 15.0,\n",
       " 24.300000000000001,\n",
       " 23.5,\n",
       " 23.899999999999999,\n",
       " 13.300000000000001,\n",
       " 14.1,\n",
       " 18.199999999999999,\n",
       " 34.600000000000001,\n",
       " 32.700000000000003,\n",
       " 22.199999999999999,\n",
       " 20.600000000000001,\n",
       " 20.5,\n",
       " 21.699999999999999,\n",
       " 22.100000000000001,\n",
       " 8.6999999999999993,\n",
       " 13.300000000000001,\n",
       " 22.0,\n",
       " 12.800000000000001,\n",
       " 19.800000000000001,\n",
       " 23.699999999999999,\n",
       " 30.699999999999999,\n",
       " 23.0,\n",
       " 23.600000000000001,\n",
       " 21.399999999999999,\n",
       " 30.300000000000001,\n",
       " 22.600000000000001,\n",
       " 13.300000000000001,\n",
       " 14.199999999999999,\n",
       " 36.100000000000001,\n",
       " 37.899999999999999,\n",
       " 41.700000000000003,\n",
       " 18.5,\n",
       " 14.5,\n",
       " 25.0,\n",
       " 19.399999999999999,\n",
       " 50.0,\n",
       " 20.100000000000001,\n",
       " 20.0,\n",
       " 23.100000000000001,\n",
       " 22.5,\n",
       " 22.0,\n",
       " 23.300000000000001,\n",
       " 21.100000000000001,\n",
       " 15.199999999999999,\n",
       " 22.899999999999999,\n",
       " 28.199999999999999,\n",
       " 15.199999999999999,\n",
       " 25.0,\n",
       " 24.5,\n",
       " 8.8000000000000007,\n",
       " 20.300000000000001,\n",
       " 50.0,\n",
       " 24.0,\n",
       " 13.1,\n",
       " 10.5,\n",
       " 19.5,\n",
       " 20.5,\n",
       " 23.100000000000001,\n",
       " 13.6,\n",
       " 17.399999999999999,\n",
       " 23.899999999999999,\n",
       " 28.100000000000001,\n",
       " 16.5,\n",
       " 23.100000000000001,\n",
       " 15.699999999999999,\n",
       " 18.899999999999999,\n",
       " 25.0,\n",
       " 22.0,\n",
       " 22.800000000000001,\n",
       " 18.600000000000001,\n",
       " 18.699999999999999,\n",
       " 28.699999999999999,\n",
       " 20.800000000000001,\n",
       " 17.199999999999999,\n",
       " 46.0,\n",
       " 23.100000000000001,\n",
       " 37.200000000000003,\n",
       " 23.199999999999999,\n",
       " 7.2000000000000002,\n",
       " 19.600000000000001,\n",
       " 29.600000000000001,\n",
       " 21.800000000000001,\n",
       " 27.5,\n",
       " 7.2000000000000002,\n",
       " 26.5,\n",
       " 29.100000000000001,\n",
       " 17.100000000000001,\n",
       " 15.300000000000001,\n",
       " 20.399999999999999,\n",
       " 13.1,\n",
       " 12.6,\n",
       " 8.5,\n",
       " 15.6,\n",
       " 17.100000000000001,\n",
       " 18.0,\n",
       " 17.600000000000001,\n",
       " 18.399999999999999,\n",
       " 18.199999999999999,\n",
       " 13.4,\n",
       " 24.699999999999999,\n",
       " 26.399999999999999,\n",
       " 19.899999999999999,\n",
       " 13.9,\n",
       " 10.199999999999999,\n",
       " 18.399999999999999,\n",
       " 22.199999999999999,\n",
       " 16.399999999999999,\n",
       " 27.0,\n",
       " 23.899999999999999,\n",
       " 22.800000000000001,\n",
       " 5.0,\n",
       " 22.399999999999999,\n",
       " 17.399999999999999,\n",
       " 11.9,\n",
       " 24.399999999999999,\n",
       " 20.600000000000001,\n",
       " 35.100000000000001,\n",
       " 18.800000000000001,\n",
       " 7.0,\n",
       " 26.699999999999999,\n",
       " 36.200000000000003,\n",
       " 19.300000000000001,\n",
       " 15.199999999999999,\n",
       " 50.0,\n",
       " 19.5,\n",
       " 50.0,\n",
       " 21.899999999999999,\n",
       " 21.899999999999999,\n",
       " 14.300000000000001,\n",
       " 20.100000000000001,\n",
       " 24.100000000000001,\n",
       " 17.0,\n",
       " 21.699999999999999,\n",
       " 19.300000000000001,\n",
       " 16.100000000000001,\n",
       " 27.5,\n",
       " 23.0,\n",
       " 50.0,\n",
       " 25.100000000000001,\n",
       " 18.699999999999999,\n",
       " 14.4,\n",
       " 18.5,\n",
       " 19.399999999999999,\n",
       " 48.799999999999997,\n",
       " 31.100000000000001,\n",
       " 24.800000000000001,\n",
       " 11.800000000000001,\n",
       " 13.4,\n",
       " 42.299999999999997,\n",
       " 12.5,\n",
       " 24.5,\n",
       " 13.9,\n",
       " 29.800000000000001,\n",
       " 11.0,\n",
       " 12.300000000000001,\n",
       " 50.0,\n",
       " 20.800000000000001,\n",
       " 20.300000000000001,\n",
       " 20.100000000000001,\n",
       " 24.5,\n",
       " 27.100000000000001,\n",
       " 19.300000000000001,\n",
       " 12.1,\n",
       " 5.5999999999999996,\n",
       " 21.699999999999999,\n",
       " 23.199999999999999,\n",
       " 21.199999999999999,\n",
       " 31.600000000000001,\n",
       " 33.0,\n",
       " 20.399999999999999,\n",
       " 35.200000000000003,\n",
       " 24.699999999999999,\n",
       " 48.5,\n",
       " 27.899999999999999,\n",
       " 29.100000000000001,\n",
       " 8.3000000000000007,\n",
       " 14.5,\n",
       " 24.399999999999999,\n",
       " 30.100000000000001,\n",
       " 21.100000000000001,\n",
       " 8.4000000000000004,\n",
       " 8.4000000000000004,\n",
       " 15.6,\n",
       " 20.600000000000001,\n",
       " 41.299999999999997,\n",
       " 22.899999999999999,\n",
       " 24.800000000000001,\n",
       " 25.0,\n",
       " 16.699999999999999,\n",
       " 20.600000000000001,\n",
       " 23.699999999999999,\n",
       " 13.0,\n",
       " 7.5,\n",
       " 6.2999999999999998,\n",
       " 34.700000000000003,\n",
       " 18.5,\n",
       " 43.100000000000001,\n",
       " 13.4,\n",
       " 29.399999999999999,\n",
       " 36.399999999999999,\n",
       " 28.399999999999999,\n",
       " 29.800000000000001,\n",
       " 12.699999999999999,\n",
       " 28.5,\n",
       " 26.600000000000001,\n",
       " 17.800000000000001,\n",
       " 36.200000000000003,\n",
       " 22.600000000000001,\n",
       " 18.199999999999999,\n",
       " 31.0,\n",
       " 32.0,\n",
       " 22.0,\n",
       " 22.899999999999999,\n",
       " 16.100000000000001,\n",
       " 21.199999999999999,\n",
       " 20.0,\n",
       " 19.100000000000001,\n",
       " 23.0,\n",
       " 23.800000000000001,\n",
       " 37.600000000000001,\n",
       " 26.600000000000001,\n",
       " 17.5,\n",
       " 22.899999999999999,\n",
       " 25.0,\n",
       " 19.399999999999999,\n",
       " 9.5,\n",
       " 36.0,\n",
       " 20.0,\n",
       " 13.800000000000001,\n",
       " 22.5,\n",
       " 18.800000000000001,\n",
       " 17.5,\n",
       " 18.300000000000001,\n",
       " 32.399999999999999,\n",
       " 14.5,\n",
       " 19.699999999999999,\n",
       " 11.300000000000001,\n",
       " 22.5,\n",
       " 23.899999999999999,\n",
       " 24.399999999999999,\n",
       " 8.8000000000000007,\n",
       " 14.1,\n",
       " 21.600000000000001,\n",
       " 14.6,\n",
       " 39.799999999999997,\n",
       " 24.100000000000001,\n",
       " 25.0,\n",
       " 23.399999999999999,\n",
       " 23.300000000000001,\n",
       " 21.399999999999999,\n",
       " 23.100000000000001,\n",
       " 33.100000000000001,\n",
       " 18.300000000000001,\n",
       " 20.199999999999999,\n",
       " 33.200000000000003,\n",
       " 7.2000000000000002,\n",
       " 17.800000000000001,\n",
       " 10.9,\n",
       " 23.600000000000001,\n",
       " 24.199999999999999,\n",
       " 14.6,\n",
       " 33.399999999999999,\n",
       " 13.800000000000001,\n",
       " 22.300000000000001,\n",
       " 50.0,\n",
       " 20.0,\n",
       " 31.600000000000001,\n",
       " 27.5,\n",
       " 33.799999999999997,\n",
       " 27.100000000000001,\n",
       " 25.199999999999999,\n",
       " 8.5,\n",
       " 50.0,\n",
       " 26.600000000000001,\n",
       " 22.199999999999999,\n",
       " 18.699999999999999,\n",
       " 19.699999999999999,\n",
       " 14.4,\n",
       " 16.800000000000001,\n",
       " 20.399999999999999,\n",
       " 11.699999999999999,\n",
       " 23.699999999999999,\n",
       " 21.699999999999999,\n",
       " 13.6,\n",
       " 14.9,\n",
       " 34.899999999999999,\n",
       " 17.399999999999999,\n",
       " 5.0,\n",
       " 17.699999999999999,\n",
       " 16.699999999999999,\n",
       " 13.800000000000001,\n",
       " 44.799999999999997,\n",
       " 20.199999999999999,\n",
       " 50.0,\n",
       " 33.100000000000001,\n",
       " 7.4000000000000004,\n",
       " 32.0]"
      ]
     },
     "execution_count": 11,
     "metadata": {},
     "output_type": "execute_result"
    }
   ],
   "source": [
    "y_train"
   ]
  },
  {
   "cell_type": "markdown",
   "metadata": {},
   "source": [
    "## Question 4\n",
    "*Which performance metric below did you find was most appropriate for predicting housing prices and analyzing the total error. Why?*\n",
    "- *Accuracy*\n",
    "- *Precision*\n",
    "- *Recall*\n",
    "- *F1 Score*\n",
    "- *Mean Squared Error (MSE)*\n",
    "- *Mean Absolute Error (MAE)*"
   ]
  },
  {
   "cell_type": "markdown",
   "metadata": {},
   "source": [
    "**Answer: **In many circumstances it makes sense to give more weight to points further away from the mean--that is, being off by 10 is more than twice as bad as being off by 5. In such cases MSE is a more appropriate measure of error and hence I chose MSE.Also only MSE and MAE can be used for our model as only they support continuos multi output data.The rest of the metrics that are:-accuracy,precision,recall and F1 score are not suitable for continuos multioutput data"
   ]
  },
  {
   "cell_type": "markdown",
   "metadata": {},
   "source": [
    "## Step 4 (Final Step)\n",
    "In the code block below, you will need to implement code so that the `fit_model` function does the following:\n",
    "- Create a scoring function using the same performance metric as in **Step 2**. See the [sklearn `make_scorer` documentation](http://scikit-learn.org/stable/modules/generated/sklearn.metrics.make_scorer.html).\n",
    "- Build a GridSearchCV object using `regressor`, `parameters`, and `scoring_function`. See the [sklearn documentation on GridSearchCV](http://scikit-learn.org/stable/modules/generated/sklearn.grid_search.GridSearchCV.html).\n",
    "\n",
    "When building the scoring function and GridSearchCV object, *be sure that you read the parameters documentation thoroughly.* It is not always the case that a default parameter for a function is the appropriate setting for the problem you are working on.\n",
    "\n",
    "Since you are using `sklearn` functions, remember to include the necessary import statements below as well!  \n",
    "Ensure that you have executed the code block once you are done. You'll know the `fit_model` function is working if the statement *\"Successfully fit a model to the data!\"* is printed."
   ]
  },
  {
   "cell_type": "code",
   "execution_count": 19,
   "metadata": {
    "collapsed": false
   },
   "outputs": [
    {
     "name": "stdout",
     "output_type": "stream",
     "text": [
      "DecisionTreeRegressor(criterion='mse', max_depth=4, max_features=None,\n",
      "           max_leaf_nodes=None, min_samples_leaf=1, min_samples_split=2,\n",
      "           min_weight_fraction_leaf=0.0, presort=False, random_state=None,\n",
      "           splitter='best')\n"
     ]
    }
   ],
   "source": [
    "# Put any import statements you need for this code block\n",
    "from sklearn.metrics import make_scorer,accuracy_score\n",
    "from sklearn.grid_search import GridSearchCV\n",
    "from sklearn.tree import DecisionTreeRegressor\n",
    "def fit_model(X, y):\n",
    "    \"\"\" Tunes a decision tree regressor model using GridSearchCV on the input data X \n",
    "        and target labels y and returns this optimal model. \"\"\"\n",
    "\n",
    "    # Create a decision tree regressor object\n",
    "    regressor = DecisionTreeRegressor()\n",
    "\n",
    "    # Set up the parameters we wish to tune\n",
    "    parameters = {'max_depth':(1,2,3,4,5,6,7,8,9,10)}\n",
    "\n",
    "    # Make an appropriate scoring function\n",
    "    scoring_function = make_scorer(metrics.mean_squared_error,greater_is_better = False)\n",
    "\n",
    "    # Make the GridSearchCV object\n",
    "    reg = GridSearchCV(estimator=regressor, param_grid=parameters,error_score=scoring_function)\n",
    "\n",
    "    # Fit the learner to the data to obtain the optimal model with tuned parameters\n",
    "    reg.fit(X, y)\n",
    "\n",
    "    # Return the optimal model\n",
    "    return reg.best_estimator_\n",
    "\n",
    "\n",
    "# Test fit_model on entire dataset\n",
    "try:\n",
    "    reg = fit_model(housing_features, housing_prices)\n",
    "    print reg\n",
    "except:\n",
    "    print \"Something went wrong with fitting a model.\""
   ]
  },
  {
   "cell_type": "markdown",
   "metadata": {},
   "source": [
    "## Question 5\n",
    "*What is the grid search algorithm and when is it applicable?*"
   ]
  },
  {
   "cell_type": "markdown",
   "metadata": {},
   "source": [
    "**Answer: **In the context of machine learning, hyperparameter optimization or model selection is the problem of choosing a set of hyperparameters for a learning algorithm, usually with the goal of optimizing a measure of the algorithm's performance on an independent data set.The traditional way of performing hyperparameter optimization has been grid search, or a parameter sweep, which is simply an exhaustive searching through a manually specified subset of the hyperparameter space of a learning algorithm.\n",
    "\n",
    "It unfortunately suffers from the curse of dimesionality so,it can only be used when we have not very high dimensional data.\n",
    "With a gridsearch you just try a set of values for your parameters and look at which value the objective function is largest (or smallest). Lets say you have one parameter and want to try for the values $1, 2, 3, 4, 5, 6, 7, 8, 9, 10$. (this is not realistic, normally you try many more possible values). In this example you need to compute the objective function 10 times.\n",
    "\n",
    "Lets say there is a second parameter. Now you need to try the values: \n",
    "\n",
    "$(1,1), (1,2), (1,3), (1,4), (1,5), (1,6), (1,7), (1,8), (1,9), (1,10), (2,1), (2,2), (2,3), (2,4), (2, 5), (2,6), (2,7), (2,8), (2,9), (2,10), \\cdots , (10,1), (10,2), (10,3), (10,4), (10,5), (10,6), (10,7), (10,8), (10,9), (10,10)$. \n",
    "\n",
    "So now you need to compute the objective function $10 \\times 10 = 100$ times. If you have a third parameter you would end up with $10^3=1000$ evaluations, etc. \n",
    "\n",
    "If we use a more realist number of tries per parameter, say 1000, then we end up with a $1000^1=1000$ evaluations for one parameter, $1000^2=1,000,000$ evaluations for two parameters, $1000^3=1,000,000,000$ evaluations for three parameters, etc. You can see that you can quickly end up with an unmanageable number of evaluations."
   ]
  },
  {
   "cell_type": "markdown",
   "metadata": {},
   "source": [
    "## Question 6\n",
    "*What is cross-validation, and how is it performed on a model? Why would cross-validation be helpful when using grid search?*"
   ]
  },
  {
   "cell_type": "markdown",
   "metadata": {},
   "source": [
    "**Answer: **Cross-validation is a model validation technique for assessing how the results of a statistical analysis will generalize to an independent data set.\n",
    "\n",
    "It is performed as given->>One round of cross-validation involves partitioning a sample of data into complementary subsets, performing the analysis on one subset (called the training set), and validating the analysis on the other subset (called the validation set or testing set)-->>\"validating the analysis on the other subset\" means that the model is valid if it has error less then a certain chosen threshold and thus when it is below that threshold,it means that it is able to predict within an acceptable margin of errors. To reduce variability, multiple rounds of cross-validation are performed using different partitions, and the validation results are averaged over the rounds.\n",
    "\n",
    "Cross-validation helps to estimate the generalization performance of a model built using the grid search.\n",
    "Cross-validation is when you reserve part of your data to use in evaluating your model. There are different cross-validation methods. The simplest conceptually is to just take 70% (just making up a number here, it doesn't have to be 70%) of your data and use that for training, and then use the remaining 30% of the data to evaluate the model's performance. The reason you need different data for training and evaluating the model is to protect against overfitting. There are other (slightly more involved) cross-validation techniques, of course, like k-fold cross-validation, which often used in practice.\n",
    "\n",
    "Grid search means you have a set of models (which differ from each other in their parameter values, which lie on a grid). What you do is you then train each of the models and evaluate it using cross-validation. You then select the one that performed best.\n",
    "\n",
    "To give a concrete example, if you're using a support vector machine, you could use different values for gamma and C. So, for example you could have a grid with the following values for (gamma, C): (1, 1), (0.1, 1), (1, 10), (0.1, 10). It's a grid because it's like a product of [1, 0.1] for gamma and [1, 10] for C. Grid-search would basically train a SVM for each of these four pair of (gamma, C) values, then evaluate it using cross-validation, and select the one that did best."
   ]
  },
  {
   "cell_type": "markdown",
   "metadata": {},
   "source": [
    "# Checkpoint!\n",
    "You have now successfully completed your last code implementation section. Pat yourself on the back! All of your functions written above will be executed in the remaining sections below, and questions will be asked about various results for you to analyze. To prepare the **Analysis** and **Prediction** sections, you will need to intialize the two functions below. Remember, there's no need to implement any more code, so sit back and execute the code blocks! Some code comments are provided if you find yourself interested in the functionality."
   ]
  },
  {
   "cell_type": "code",
   "execution_count": 20,
   "metadata": {
    "collapsed": true
   },
   "outputs": [],
   "source": [
    "def learning_curves(X_train, y_train, X_test, y_test):\n",
    "    \"\"\" Calculates the performance of several models with varying sizes of training data.\n",
    "        The learning and testing error rates for each model are then plotted. \"\"\"\n",
    "    \n",
    "    print \"Creating learning curve graphs for max_depths of 1, 3, 6, and 10. . .\"\n",
    "    \n",
    "    # Create the figure window\n",
    "    fig = pl.figure(figsize=(10,8))\n",
    "\n",
    "    # We will vary the training set size so that we have 50 different sizes\n",
    "    sizes = np.rint(np.linspace(1, len(X_train), 50)).astype(int)\n",
    "    train_err = np.zeros(len(sizes))\n",
    "    test_err = np.zeros(len(sizes))\n",
    "\n",
    "    # Create four different models based on max_depth\n",
    "    for k, depth in enumerate([1,3,6,10]):\n",
    "        \n",
    "        for i, s in enumerate(sizes):\n",
    "            \n",
    "            # Setup a decision tree regressor so that it learns a tree with max_depth = depth\n",
    "            regressor = DecisionTreeRegressor(max_depth = depth)\n",
    "            \n",
    "            # Fit the learner to the training data\n",
    "            regressor.fit(X_train[:s], y_train[:s])\n",
    "\n",
    "            # Find the performance on the training set\n",
    "            train_err[i] = performance_metric(y_train[:s], regressor.predict(X_train[:s]))\n",
    "            \n",
    "            # Find the performance on the testing set\n",
    "            test_err[i] = performance_metric(y_test, regressor.predict(X_test))\n",
    "\n",
    "        # Subplot the learning curve graph\n",
    "        ax = fig.add_subplot(2, 2, k+1)\n",
    "        ax.plot(sizes, test_err, lw = 2, label = 'Testing Error')\n",
    "        ax.plot(sizes, train_err, lw = 2, label = 'Training Error')\n",
    "        ax.legend()\n",
    "        ax.set_title('max_depth = %s'%(depth))\n",
    "        ax.set_xlabel('Number of Data Points in Training Set')\n",
    "        ax.set_ylabel('Total Error')\n",
    "        ax.set_xlim([0, len(X_train)])\n",
    "    \n",
    "    # Visual aesthetics\n",
    "    fig.suptitle('Decision Tree Regressor Learning Performances', fontsize=18, y=1.03)\n",
    "    fig.tight_layout()\n",
    "    fig.show()"
   ]
  },
  {
   "cell_type": "code",
   "execution_count": 21,
   "metadata": {
    "collapsed": true
   },
   "outputs": [],
   "source": [
    "def model_complexity(X_train, y_train, X_test, y_test):\n",
    "    \"\"\" Calculates the performance of the model as model complexity increases.\n",
    "        The learning and testing errors rates are then plotted. \"\"\"\n",
    "    \n",
    "    print \"Creating a model complexity graph. . . \"\n",
    "\n",
    "    # We will vary the max_depth of a decision tree model from 1 to 14\n",
    "    max_depth = np.arange(1, 14)\n",
    "    train_err = np.zeros(len(max_depth))\n",
    "    test_err = np.zeros(len(max_depth))\n",
    "\n",
    "    for i, d in enumerate(max_depth):\n",
    "        # Setup a Decision Tree Regressor so that it learns a tree with depth d\n",
    "        regressor = DecisionTreeRegressor(max_depth = d)\n",
    "\n",
    "        # Fit the learner to the training data\n",
    "        regressor.fit(X_train, y_train)\n",
    "\n",
    "        # Find the performance on the training set\n",
    "        train_err[i] = performance_metric(y_train, regressor.predict(X_train))\n",
    "\n",
    "        # Find the performance on the testing set\n",
    "        test_err[i] = performance_metric(y_test, regressor.predict(X_test))\n",
    "\n",
    "    # Plot the model complexity graph\n",
    "    pl.figure(figsize=(7, 5))\n",
    "    pl.title('Decision Tree Regressor Complexity Performance')\n",
    "    pl.plot(max_depth, test_err, lw=2, label = 'Testing Error')\n",
    "    pl.plot(max_depth, train_err, lw=2, label = 'Training Error')\n",
    "    pl.legend()\n",
    "    pl.xlabel('Maximum Depth')\n",
    "    pl.ylabel('Total Error')\n",
    "    pl.show()"
   ]
  },
  {
   "cell_type": "markdown",
   "metadata": {},
   "source": [
    "# Analyzing Model Performance\n",
    "In this third section of the project, you'll take a look at several models' learning and testing error rates on various subsets of training data. Additionally, you'll investigate one particular algorithm with an increasing `max_depth` parameter on the full training set to observe how model complexity affects learning and testing errors. Graphing your model's performance based on varying criteria can be beneficial in the analysis process, such as visualizing behavior that may not have been apparent from the results alone."
   ]
  },
  {
   "cell_type": "code",
   "execution_count": 22,
   "metadata": {
    "collapsed": false
   },
   "outputs": [
    {
     "name": "stdout",
     "output_type": "stream",
     "text": [
      "Creating learning curve graphs for max_depths of 1, 3, 6, and 10. . .\n"
     ]
    },
    {
     "data": {
      "image/png": "[encoded data removed]",
      "text/plain": [
       "<matplotlib.figure.Figure at 0x8b8d278>"
      ]
     },
     "metadata": {},
     "output_type": "display_data"
    }
   ],
   "source": [
    "learning_curves(X_train, y_train, X_test, y_test)"
   ]
  },
  {
   "cell_type": "markdown",
   "metadata": {},
   "source": [
    "## Question 7\n",
    "*Choose one of the learning curve graphs that are created above. What is the max depth for the chosen model? As the size of the training set increases, what happens to the training error? What happens to the testing error?*"
   ]
  },
  {
   "cell_type": "markdown",
   "metadata": {},
   "source": [
    "**Answer: **Max Depth is 10. As the size of the training set increases, the training error decreases non linearly,although initially its very low.\n",
    "            The testing error,also decreases and increases in a constant pattern,one after the another with the increase in data points i the training set.When the training set is small, the trained model can essentially “memorize” all of the training data. As the training set gets larger, the model won’t be able to fit all of the training data exactly.\n",
    "The opposite is happening with the test set. When the training set is small, then it’s more likely the model hasn’t seen similar data before. As the training set gets larger, it becomes more likely that the model has seen similar data before.\n",
    "            "
   ]
  },
  {
   "cell_type": "markdown",
   "metadata": {},
   "source": [
    "## Question 8\n",
    "*Look at the learning curve graphs for the model with a max depth of 1 and a max depth of 10. When the model is using the full training set, does it suffer from high bias or high variance when the max depth is 1? What about when the max depth is 10?*"
   ]
  },
  {
   "cell_type": "markdown",
   "metadata": {},
   "source": [
    "**Answer: **Model with max-depth 1 suffers from high bias as  whereas the model with max-depth 10 suffers from high variance. "
   ]
  },
  {
   "cell_type": "code",
   "execution_count": 23,
   "metadata": {
    "collapsed": false
   },
   "outputs": [
    {
     "name": "stdout",
     "output_type": "stream",
     "text": [
      "Creating a model complexity graph. . . \n"
     ]
    },
    {
     "data": {
      "image/png": "[encoded data removed]",
      "text/plain": [
       "<matplotlib.figure.Figure at 0x9684320>"
      ]
     },
     "metadata": {},
     "output_type": "display_data"
    }
   ],
   "source": [
    "model_complexity(X_train, y_train, X_test, y_test)"
   ]
  },
  {
   "cell_type": "markdown",
   "metadata": {},
   "source": [
    "## Question 9\n",
    "*From the model complexity graph above, describe the training and testing errors as the max depth increases. Based on your interpretation of the graph, which max depth results in a model that best generalizes the dataset? Why?*"
   ]
  },
  {
   "cell_type": "markdown",
   "metadata": {},
   "source": [
    "**Answer: **With th increase in max depth,training error decreases while the test error increases and decreases in a pattern.Based on my interpretation,I think the model with max depth equal to 4 OR 5 generalizes the best as it has a low training error as well a low test error.This trade off between training and test error seems to be best for the model with this max depth."
   ]
  },
  {
   "cell_type": "markdown",
   "metadata": {},
   "source": [
    "# Model Prediction\n",
    "In this final section of the project, you will make a prediction on the client's feature set using an optimized model from `fit_model`. When applying grid search along with cross-validation to optimize your model, it would typically be performed and validated on a training set and subsequently evaluated on a **dedicated test set**. In this project, the optimization below is performed on the *entire dataset* (as opposed to the training set you made above) due to the many outliers in the data. Using the entire dataset for training provides for a less volatile prediction at the expense of not testing your model's performance. \n",
    "\n",
    "*To answer the following questions, it is recommended that you run the code blocks several times and use the median or mean value of the results.*"
   ]
  },
  {
   "cell_type": "markdown",
   "metadata": {},
   "source": [
    "## Question 10\n",
    "*Using grid search on the entire dataset, what is the optimal `max_depth` parameter for your model? How does this result compare to your intial intuition?*  \n",
    "**Hint: ** Run the code block below to see the max depth produced by your optimized model."
   ]
  },
  {
   "cell_type": "code",
   "execution_count": 24,
   "metadata": {
    "collapsed": false
   },
   "outputs": [
    {
     "name": "stdout",
     "output_type": "stream",
     "text": [
      "Final model has an optimal max_depth parameter of 4\n"
     ]
    }
   ],
   "source": [
    "print \"Final model has an optimal max_depth parameter of\", reg.get_params()['max_depth']"
   ]
  },
  {
   "cell_type": "markdown",
   "metadata": {},
   "source": [
    "**Answer: **Final model has an optimal max_depth parameter of 4 as 13 is highly overfitting here, as the test error is well above our training error and we are basically just memorizing our data.\n"
   ]
  },
  {
   "cell_type": "markdown",
   "metadata": {},
   "source": [
    "## Question 11\n",
    "*With your parameter-tuned model, what is the best selling price for your client's home? How does this selling price compare to the basic statistics you calculated on the dataset?*  \n",
    "\n",
    "**Hint: ** Run the code block below to have your parameter-tuned model make a prediction on the client's home."
   ]
  },
  {
   "cell_type": "code",
   "execution_count": 25,
   "metadata": {
    "collapsed": false
   },
   "outputs": [
    {
     "name": "stdout",
     "output_type": "stream",
     "text": [
      "Predicted value of client's home: 21.630\n"
     ]
    }
   ],
   "source": [
    "sale_price = reg.predict(CLIENT_FEATURES)\n",
    "print \"Predicted value of client's home: {0:.3f}\".format(sale_price[0])"
   ]
  },
  {
   "cell_type": "markdown",
   "metadata": {},
   "source": [
    "**Answer: **$21630.This seems to be good enough as it is very close to the median and mean house price calculated earlier."
   ]
  },
  {
   "cell_type": "markdown",
   "metadata": {},
   "source": [
    "## Question 12 (Final Question):\n",
    "*In a few sentences, discuss whether you would use this model or not to predict the selling price of future clients' homes in the Greater Boston area.*"
   ]
  },
  {
   "cell_type": "markdown",
   "metadata": {},
   "source": [
    "**Answer: **Though the accuracy is good,I would not use this model.I think it needs more helpful features like median household income,some metric to assess nearby facilities on their qauntity,quaility and availability,distance to nearest hospitals,entertainment venues such as movie theaters etc."
   ]
  },
  {
   "cell_type": "code",
   "execution_count": null,
   "metadata": {
    "collapsed": false
   },
   "outputs": [],
   "source": []
  },
  {
   "cell_type": "code",
   "execution_count": null,
   "metadata": {
    "collapsed": true
   },
   "outputs": [],
   "source": []
  },
  {
   "cell_type": "code",
   "execution_count": null,
   "metadata": {
    "collapsed": true
   },
   "outputs": [],
   "source": []
  },
  {
   "cell_type": "code",
   "execution_count": null,
   "metadata": {
    "collapsed": true
   },
   "outputs": [],
   "source": []
  },
  {
   "cell_type": "code",
   "execution_count": null,
   "metadata": {
    "collapsed": true
   },
   "outputs": [],
   "source": []
  },
  {
   "cell_type": "code",
   "execution_count": null,
   "metadata": {
    "collapsed": true
   },
   "outputs": [],
   "source": []
  },
  {
   "cell_type": "code",
   "execution_count": null,
   "metadata": {
    "collapsed": true
   },
   "outputs": [],
   "source": []
  },
  {
   "cell_type": "code",
   "execution_count": null,
   "metadata": {
    "collapsed": true
   },
   "outputs": [],
   "source": []
  },
  {
   "cell_type": "code",
   "execution_count": null,
   "metadata": {
    "collapsed": true
   },
   "outputs": [],
   "source": []
  },
  {
   "cell_type": "code",
   "execution_count": null,
   "metadata": {
    "collapsed": true
   },
   "outputs": [],
   "source": []
  },
  {
   "cell_type": "code",
   "execution_count": null,
   "metadata": {
    "collapsed": true
   },
   "outputs": [],
   "source": []
  },
  {
   "cell_type": "code",
   "execution_count": null,
   "metadata": {
    "collapsed": true
   },
   "outputs": [],
   "source": []
  },
  {
   "cell_type": "code",
   "execution_count": null,
   "metadata": {
    "collapsed": true
   },
   "outputs": [],
   "source": []
  },
  {
   "cell_type": "code",
   "execution_count": null,
   "metadata": {
    "collapsed": true
   },
   "outputs": [],
   "source": []
  }
 ],
 "metadata": {
  "kernelspec": {
   "display_name": "Python 2",
   "language": "python",
   "name": "python2"
  },
  "language_info": {
   "codemirror_mode": {
    "name": "ipython",
    "version": 2
   },
   "file_extension": ".py",
   "mimetype": "text/x-python",
   "name": "python",
   "nbconvert_exporter": "python",
   "pygments_lexer": "ipython2",
   "version": "2.7.11"
  }
 },
 "nbformat": 4,
 "nbformat_minor": 0
}
